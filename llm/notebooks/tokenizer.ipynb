{
 "cells": [
  {
   "cell_type": "markdown",
   "id": "7ccfbdf3",
   "metadata": {},
   "source": [
    "### Creating tokens"
   ]
  },
  {
   "cell_type": "code",
   "execution_count": 7,
   "id": "77686917",
   "metadata": {},
   "outputs": [
    {
     "name": "stdout",
     "output_type": "stream",
     "text": [
      "Verdit has 20479 characters\n",
      "I HAD always thought Jack Gisburn rather a cheap genius--though a good fellow enough--so it was no \n"
     ]
    }
   ],
   "source": [
    "with open('verdict.txt','r', encoding='utf-8') as f:\n",
    "    raw_text = f.read()\n",
    "print(f'Verdit has {len(raw_text)} characters')\n",
    "print(raw_text[:99])  # Print the first 100 characters for a quick check"
   ]
  },
  {
   "cell_type": "code",
   "execution_count": null,
   "id": "946757f5",
   "metadata": {},
   "outputs": [
    {
     "name": "stdout",
     "output_type": "stream",
     "text": [
      "The text has been broken down into 4690 tokens.\n",
      "['I', 'HAD', 'always', 'thought', 'Jack', 'Gisburn', 'rather', 'a', 'cheap', 'genius', '--', 'though', 'a', 'good', 'fellow', 'enough', '--', 'so', 'it', 'was', 'no', 'great', 'surprise', 'to', 'me', 'to', 'hear', 'that', ',', 'in', 'the', 'height', 'of', 'his', 'glory', ',', 'he', 'had', 'dropped', 'his', 'painting', ',', 'married', 'a', 'rich', 'widow', ',', 'and', 'established', 'himself', 'in', 'a', 'villa', 'on', 'the', 'Riviera', '.', '(', 'Though', 'I', 'rather', 'thought', 'it', 'would', 'have', 'been', 'Rome', 'or', 'Florence', '.', ')', '\"', 'The', 'height', 'of', 'his', 'glory', '\"', '--', 'that', 'was', 'what', 'the', 'women', 'called', 'it', '.', 'I', 'can', 'hear', 'Mrs', '.', 'Gideon', 'Thwing', '--', 'his', 'last', 'Chicago', 'sitter']\n"
     ]
    }
   ],
   "source": [
    "import re\n",
    "def convert_text_to_tokens(text):\n",
    "    # Split the text into sentences using regex\n",
    "    sentences = re.split(r'([,.:;?!_\"()\\']|--|\\s)', text)\n",
    "    # Remove any leading/trailing whitespace from each sentence\n",
    "    return [word.strip() for word in sentences if word.strip()]\n",
    "\n",
    "tokens = convert_text_to_tokens(raw_text)\n",
    "\n",
    "print(f'The text has been broken down into {len(tokens)} tokens.')\n",
    "print(tokens[:99])  # Print the first 100 tokens for a quick check"
   ]
  },
  {
   "cell_type": "markdown",
   "id": "6a73f944",
   "metadata": {},
   "source": [
    "#### Assign token ID"
   ]
  },
  {
   "cell_type": "code",
   "execution_count": 40,
   "id": "faf51869",
   "metadata": {},
   "outputs": [
    {
     "name": "stdout",
     "output_type": "stream",
     "text": [
      "Vocabulary size: 1132\n",
      "(';', 9)\n",
      "('?', 10)\n",
      "('A', 11)\n",
      "('Ah', 12)\n",
      "('Among', 13)\n",
      "('And', 14)\n",
      "('Are', 15)\n",
      "('Arrt', 16)\n",
      "('As', 17)\n",
      "('At', 18)\n"
     ]
    }
   ],
   "source": [
    "def create_vocabulary(tokens):\n",
    "    unique_tokens = sorted(set(tokens))\n",
    "    unique_tokens.extend(['<|endoftext|>', '<|unk|>'])  # Add padding and unknown tokens\n",
    "    return {token: idx for idx, token in enumerate(unique_tokens)}\n",
    "\n",
    "vocabulary = create_vocabulary(tokens)\n",
    "print(f'Vocabulary size: {len(vocabulary)}')\n",
    "for token in list(vocabulary.items())[9:19]:\n",
    "    print(f'{token}')\n"
   ]
  },
  {
   "cell_type": "code",
   "execution_count": null,
   "id": "1ffc584f",
   "metadata": {},
   "outputs": [],
   "source": [
    "class TokenizerV1:\n",
    "    def __init__(self, vocabulary):\n",
    "        self.vocabulary = vocabulary\n",
    "        self.reverse_vocabulary = {idx: token for token, idx in vocabulary.items()}\n",
    "\n",
    "    def encode(self, text):\n",
    "        preprocessed = re.split(r'([,.:;?!_\"()\\']|--|\\s)', text)\n",
    "        preprocessed = [word.strip() for word in preprocessed if word.strip()]\n",
    "        preprocessed = [\n",
    "            item if item not in vocabulary\n",
    "            else '<|unk|>'  for item in preprocessed\n",
    "        ]\n",
    "        return [self.vocabulary.get(word, -1) for word in preprocessed]\n",
    "    \n",
    "    def decode(self, ids):\n",
    "        text = ' '.join(self.reverse_vocabulary.get(idx, '') for idx in ids)\n",
    "        # replace spaces before the specified punctuations\n",
    "        text = re.sub(r'\\s+([,.?!\"()\\'])', r'\\1', text)\n",
    "        return text\n",
    "    "
   ]
  },
  {
   "cell_type": "code",
   "execution_count": 42,
   "id": "5e4f0aa8",
   "metadata": {},
   "outputs": [
    {
     "name": "stdout",
     "output_type": "stream",
     "text": [
      "Original text: It's the last he painted, you know,\"  Mrs. Gisburn said with pardonable pride.\n",
      "Encoded tokens: [56, 2, 850, 988, 602, 533, 746, 5, 1126, 596, 5, 1, 67, 7, 38, 851, 1108, 754, 793, 7]\n",
      "Decoded text: It' s the last he painted, you know,\" Mrs. Gisburn said with pardonable pride.\n"
     ]
    }
   ],
   "source": [
    "tokenizer = TokenizerV1(vocabulary)\n",
    "def test_tokenizer(test_text:str):\n",
    "    encoded = tokenizer.encode(test_text)\n",
    "    decoded = tokenizer.decode(encoded)\n",
    "    \n",
    "    print(f\"Original text: {test_text}\")\n",
    "    print(f\"Encoded tokens: {encoded}\")\n",
    "    print(f\"Decoded text: {decoded}\")\n",
    "test_tokenizer( \"\"\"It's the last he painted, you know,\"  Mrs. Gisburn said with pardonable pride.\"\"\")"
   ]
  },
  {
   "cell_type": "code",
   "execution_count": null,
   "id": "85ba56a9",
   "metadata": {},
   "outputs": [],
   "source": [
    "# special context tokens"
   ]
  },
  {
   "cell_type": "code",
   "execution_count": null,
   "id": "2c5a34b2",
   "metadata": {},
   "outputs": [],
   "source": []
  }
 ],
 "metadata": {
  "kernelspec": {
   "display_name": ".venv",
   "language": "python",
   "name": "python3"
  },
  "language_info": {
   "codemirror_mode": {
    "name": "ipython",
    "version": 3
   },
   "file_extension": ".py",
   "mimetype": "text/x-python",
   "name": "python",
   "nbconvert_exporter": "python",
   "pygments_lexer": "ipython3",
   "version": "3.12.3"
  }
 },
 "nbformat": 4,
 "nbformat_minor": 5
}
