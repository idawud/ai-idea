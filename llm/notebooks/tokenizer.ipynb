{
 "cells": [
  {
   "cell_type": "markdown",
   "id": "7ccfbdf3",
   "metadata": {},
   "source": [
    "### Creating tokens"
   ]
  },
  {
   "cell_type": "code",
   "execution_count": 5,
   "id": "77686917",
   "metadata": {},
   "outputs": [],
   "source": [
    "import re\n",
    "class VocabularyCreator:\n",
    "    SPLIT_PATTERN = re.compile(r'([,.:;?!_\"()\\']|--|\\s)')\n",
    "    END_OF_TEXT = '<|endoftext|>'\n",
    "    UNKNOWN = '<|unk|>'\n",
    "    \n",
    "    def __init__(self, filename):\n",
    "        self.filename = filename\n",
    "        \n",
    "    def __read_content__(self):\n",
    "        with open(self.filename, 'r', encoding='utf-8') as f:\n",
    "            content = f.read()\n",
    "        return content\n",
    "    \n",
    "    def create_vocabulary(self):\n",
    "        content = self.__read_content__()\n",
    "        tokens = self.SPLIT_PATTERN.split(content)\n",
    "        tokens = [token.strip() for token in tokens if token.strip()]\n",
    "        \n",
    "        unique_tokens = sorted(set(tokens))\n",
    "        unique_tokens.extend((self.UNKNOWN, self.END_OF_TEXT))  # Add padding and unknown tokens\n",
    "        return {token: idx for idx, token in enumerate(unique_tokens)}\n"
   ]
  },
  {
   "cell_type": "code",
   "execution_count": 6,
   "id": "1ffc584f",
   "metadata": {},
   "outputs": [],
   "source": [
    "class TokenizerV1:\n",
    "    ENCODE_SPLIT_PATTERN = re.compile(r'([,.:;?!_\"()\\']|--|\\s)')\n",
    "    DECODE_SUB_PATTERN = re.compile(r'\\s+([,.?!\"()\\'])')\n",
    "    \n",
    "    def __init__(self, volcalOrFilename):\n",
    "        if isinstance(volcalOrFilename, str):\n",
    "            creator = VocabularyCreator(volcalOrFilename)\n",
    "            self.vocabulary = creator.create_vocabulary()\n",
    "        elif isinstance(volcalOrFilename, dict):\n",
    "            self.vocabulary = volcalOrFilename\n",
    "        else:\n",
    "            raise ValueError(\"Vocabulary must be a filename or a dictionary.\")\n",
    "        self.reverse_vocabulary = {idx: token for token, idx in self.vocabulary.items()}\n",
    "\n",
    "    def encode(self, text):\n",
    "        preprocessed = self.ENCODE_SPLIT_PATTERN.split(text)\n",
    "        preprocessed = [word.strip() for word in preprocessed if word.strip()]\n",
    "        preprocessed = [\n",
    "            item if item in self.vocabulary else VocabularyCreator.UNKNOWN \n",
    "            for item in preprocessed\n",
    "        ]\n",
    "        return [self.vocabulary.get(word, -1) for word in preprocessed]\n",
    "    \n",
    "    def decode(self, ids):\n",
    "        text = ' '.join(self.reverse_vocabulary.get(idx, '') for idx in ids)\n",
    "        return self.DECODE_SUB_PATTERN.sub(r'\\1', text)\n",
    "    "
   ]
  },
  {
   "cell_type": "code",
   "execution_count": 7,
   "id": "5e4f0aa8",
   "metadata": {},
   "outputs": [
    {
     "name": "stdout",
     "output_type": "stream",
     "text": [
      "Original text: It's the last he painted, you know,\"  Mrs. Gisburn said with pardonable pride.\n",
      "Encoded tokens: [56, 2, 850, 988, 602, 533, 746, 5, 1126, 596, 5, 1, 67, 7, 38, 851, 1108, 754, 793, 7]\n",
      "Decoded text: It' s the last he painted, you know,\" Mrs. Gisburn said with pardonable pride.\n",
      "\n",
      "\n",
      "Original text: It's the last he painted, you know,<|endoftext|> Mrs. Gisburn said with pardonable pride.\n",
      "Encoded tokens: [56, 2, 850, 988, 602, 533, 746, 5, 1126, 596, 5, 1131, 67, 7, 38, 851, 1108, 754, 793, 7]\n",
      "Decoded text: It' s the last he painted, you know, <|endoftext|> Mrs. Gisburn said with pardonable pride.\n",
      "\n",
      "\n",
      "Original text: Dawud says Hello<|endoftext|> In the sunlit terraces of the palace.\n",
      "Encoded tokens: [1130, 858, 1130, 55, 988, 956, 984, 722, 988, 1130, 7]\n",
      "Decoded text: <|unk|> says <|unk|> In the sunlit terraces of the <|unk|>.\n",
      "\n",
      "\n"
     ]
    }
   ],
   "source": [
    "class TokenizerTeset:\n",
    "    def __init__(self, filename):\n",
    "        self.tokenizer = TokenizerV1(filename)\n",
    "    \n",
    "    def test_tokenizer(self, test_texts):\n",
    "        test_text = test_texts if isinstance(test_texts, str) else '<|endoftext|> '.join(test_texts)\n",
    "        encoded = self.tokenizer.encode(test_text)\n",
    "        decoded = self.tokenizer.decode(encoded)\n",
    "        \n",
    "        print(f\"Original text: {test_text}\")\n",
    "        print(f\"Encoded tokens: {encoded}\")\n",
    "        print(f\"Decoded text: {decoded}\\n\\n\")\n",
    "\n",
    "tester = TokenizerTeset('verdict.txt')\n",
    "tester.test_tokenizer( \"\"\"It's the last he painted, you know,\"  Mrs. Gisburn said with pardonable pride.\"\"\")\n",
    "tester.test_tokenizer([  \"It's the last he painted, you know,\",\"Mrs. Gisburn said with pardonable pride.\"])\n",
    "tester.test_tokenizer([ 'Dawud says Hello',  'In the sunlit terraces of the palace.'])"
   ]
  },
  {
   "cell_type": "code",
   "execution_count": null,
   "id": "178bdf51",
   "metadata": {},
   "outputs": [],
   "source": []
  }
 ],
 "metadata": {
  "kernelspec": {
   "display_name": ".venv",
   "language": "python",
   "name": "python3"
  },
  "language_info": {
   "codemirror_mode": {
    "name": "ipython",
    "version": 3
   },
   "file_extension": ".py",
   "mimetype": "text/x-python",
   "name": "python",
   "nbconvert_exporter": "python",
   "pygments_lexer": "ipython3",
   "version": "3.12.3"
  }
 },
 "nbformat": 4,
 "nbformat_minor": 5
}
